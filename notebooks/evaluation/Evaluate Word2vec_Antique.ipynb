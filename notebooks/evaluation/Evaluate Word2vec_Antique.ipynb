{
 "cells": [
  {
   "cell_type": "code",
   "execution_count": 2,
   "id": "d51347f8-aa38-4cda-9aab-7cffb9a2fb47",
   "metadata": {},
   "outputs": [
    {
     "name": "stdout",
     "output_type": "stream",
     "text": [
      " Download cleaned_antique.csv ...\n",
      "Download qrels...\n",
      "Download Word2Vec...\n",
      "start evaluation.\n",
      "\n",
      " النتائج النهائية للتقييم:\n",
      " MAP  : 0.5556\n",
      " MRR  : 0.6071\n",
      " P@10 : 0.1901\n",
      " R@10 : 1.0000\n"
     ]
    }
   ],
   "source": [
    "import pandas as pd\n",
    "import numpy as np\n",
    "from sklearn.metrics.pairwise import cosine_similarity\n",
    "from sklearn.metrics import precision_score, recall_score, average_precision_score\n",
    "from gensim.models import Word2Vec\n",
    "import joblib\n",
    "from Data_Processing_Antique import data_processing_antique\n",
    "\n",
    "print(\" Download cleaned_antique.csv ...\")\n",
    "docs_df = pd.read_csv(\"cleaned_antique.csv\").dropna(subset=[\"cleaned_text\"]).reset_index(drop=True)\n",
    "\n",
    "queries_df = pd.read_csv(\"antique_queries_train.csv\").dropna(subset=[\"text\"])\n",
    "\n",
    "qrels_df = pd.read_csv(\"antique_qrels_train.csv\")\n",
    "\n",
    "print(\"Download qrels...\")\n",
    "qrels_dict = {}\n",
    "for _, row in qrels_df.iterrows():\n",
    "    qid, did = row[\"query_id\"], row[\"doc_id\"]\n",
    "    qrels_dict.setdefault(qid, set()).add(did)\n",
    "\n",
    "print(\"Download Word2Vec...\")\n",
    "doc_vectors = joblib.load(\"antique_doc_vectors_2000.joblib\")\n",
    "\n",
    "doc_ids = joblib.load(\"antique_doc_ids.joblib\")\n",
    "\n",
    "model = Word2Vec.load(\"word2vec_antique_200.model\")\n",
    "\n",
    "def get_w2v_vector(text):\n",
    "    words = text.split()\n",
    "    vecs = [model.wv[word] for word in words if word in model.wv]\n",
    "    return np.mean(vecs, axis=0) if vecs else np.zeros(model.vector_size)\n",
    "\n",
    "print(\"start evaluation.\")\n",
    "map_scores, mrr_scores, precision_scores, recall_scores = [], [], [], []\n",
    "\n",
    "for _, query_row in queries_df.iterrows():\n",
    "    qid = query_row[\"query_id\"]\n",
    "    query_text = data_processing_antique(query_row[\"text\"])\n",
    "    query_vector = get_w2v_vector(query_text).reshape(1, -1)\n",
    "\n",
    "    # حساب التشابه\n",
    "    sims = cosine_similarity(doc_vectors, query_vector).flatten()\n",
    "\n",
    "    # أفضل top_k\n",
    "    top_k = 10\n",
    "    top_indices = sims.argsort()[-top_k:][::-1]\n",
    "    top_doc_ids = [doc_ids[i] for i in top_indices]\n",
    "\n",
    "    # القيم الحقيقية والمتوقعة\n",
    "    relevant_docs = qrels_dict.get(qid, set())\n",
    "    y_true = [1 if doc_id in relevant_docs else 0 for doc_id in top_doc_ids]\n",
    "    y_scores = sims[top_indices]\n",
    "\n",
    "    if sum(y_true) == 0:\n",
    "        continue\n",
    "\n",
    "    map_scores.append(average_precision_score(y_true, y_scores))\n",
    "    precision_scores.append(precision_score(y_true, [1]*len(y_true)))\n",
    "    recall_scores.append(recall_score(y_true, [1]*len(y_true)))\n",
    "    mrr_scores.append(1 / (np.where(np.array(y_true) == 1)[0][0] + 1))\n",
    "\n",
    "print(\"\\n النتائج النهائية للتقييم:\")\n",
    "print(f\" MAP  : {np.mean(map_scores):.4f}\")\n",
    "print(f\" MRR  : {np.mean(mrr_scores):.4f}\")\n",
    "print(f\" P@10 : {np.mean(precision_scores):.4f}\")\n",
    "print(f\" R@10 : {np.mean(recall_scores):.4f}\")\n"
   ]
  },
  {
   "cell_type": "code",
   "execution_count": null,
   "id": "54fb9946-536e-42b7-b0c2-f2547acf4aa6",
   "metadata": {},
   "outputs": [],
   "source": []
  }
 ],
 "metadata": {
  "kernelspec": {
   "display_name": "Python 3 (ipykernel)",
   "language": "python",
   "name": "python3"
  },
  "language_info": {
   "codemirror_mode": {
    "name": "ipython",
    "version": 3
   },
   "file_extension": ".py",
   "mimetype": "text/x-python",
   "name": "python",
   "nbconvert_exporter": "python",
   "pygments_lexer": "ipython3",
   "version": "3.12.7"
  }
 },
 "nbformat": 4,
 "nbformat_minor": 5
}
